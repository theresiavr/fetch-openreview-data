{
  "nbformat": 4,
  "nbformat_minor": 0,
  "metadata": {
    "colab": {
      "provenance": []
    },
    "kernelspec": {
      "name": "python3",
      "display_name": "Python 3"
    },
    "language_info": {
      "name": "python"
    }
  },
  "cells": [
    {
      "cell_type": "code",
      "source": [
        "!pip install openreview-py\n",
        "\n",
        "import openreview\n",
        "import pandas as pd"
      ],
      "metadata": {
        "colab": {
          "base_uri": "https://localhost:8080/"
        },
        "id": "rIN94w_oUomR",
        "outputId": "deb6e3b4-6ae9-44d4-cab4-59de02e7d750"
      },
      "execution_count": null,
      "outputs": [
        {
          "output_type": "stream",
          "name": "stdout",
          "text": [
            "Requirement already satisfied: openreview-py in /usr/local/lib/python3.10/dist-packages (1.44.3)\n",
            "Requirement already satisfied: pycryptodome in /usr/local/lib/python3.10/dist-packages (from openreview-py) (3.21.0)\n",
            "Requirement already satisfied: requests>=2.18.4 in /usr/local/lib/python3.10/dist-packages (from openreview-py) (2.32.3)\n",
            "Requirement already satisfied: future in /usr/local/lib/python3.10/dist-packages (from openreview-py) (1.0.0)\n",
            "Requirement already satisfied: tqdm in /usr/local/lib/python3.10/dist-packages (from openreview-py) (4.66.5)\n",
            "Requirement already satisfied: Deprecated in /usr/local/lib/python3.10/dist-packages (from openreview-py) (1.2.14)\n",
            "Requirement already satisfied: pylatexenc in /usr/local/lib/python3.10/dist-packages (from openreview-py) (2.10)\n",
            "Requirement already satisfied: tld>=0.12 in /usr/local/lib/python3.10/dist-packages (from openreview-py) (0.13)\n",
            "Requirement already satisfied: setuptools==65.5.1 in /usr/local/lib/python3.10/dist-packages (from openreview-py) (65.5.1)\n",
            "Requirement already satisfied: pyjwt in /usr/local/lib/python3.10/dist-packages (from openreview-py) (2.9.0)\n",
            "Requirement already satisfied: charset-normalizer<4,>=2 in /usr/local/lib/python3.10/dist-packages (from requests>=2.18.4->openreview-py) (3.4.0)\n",
            "Requirement already satisfied: idna<4,>=2.5 in /usr/local/lib/python3.10/dist-packages (from requests>=2.18.4->openreview-py) (3.10)\n",
            "Requirement already satisfied: urllib3<3,>=1.21.1 in /usr/local/lib/python3.10/dist-packages (from requests>=2.18.4->openreview-py) (2.2.3)\n",
            "Requirement already satisfied: certifi>=2017.4.17 in /usr/local/lib/python3.10/dist-packages (from requests>=2.18.4->openreview-py) (2024.8.30)\n",
            "Requirement already satisfied: wrapt<2,>=1.10 in /usr/local/lib/python3.10/dist-packages (from Deprecated->openreview-py) (1.16.0)\n"
          ]
        },
        {
          "output_type": "execute_result",
          "data": {
            "text/plain": [
              "[]"
            ]
          },
          "metadata": {},
          "execution_count": 3
        }
      ]
    },
    {
      "cell_type": "code",
      "source": [
        "# Fill in or change as needed\n",
        "username = \"\" #your OpenReview email\n",
        "password = \"\"\n",
        "venue_id = 'ACM.org/TheWebConf/2024/Conference'  # Replace with the actual conference ID\n",
        "list_score_field = [\"scope\", \"novelty\", \"technical_quality\", \"reviewer_confidence\"] # Score fields can be different field for each conference)"
      ],
      "metadata": {
        "id": "tXFuxAT6m-ZR"
      },
      "execution_count": null,
      "outputs": []
    },
    {
      "cell_type": "code",
      "source": [
        "def get_reviews(venue_id):\n",
        "    venue_group = client.get_group(venue_id)\n",
        "    submission_name = venue_group.content['submission_name']['value']\n",
        "    submissions = client.get_all_notes(invitation=f'{venue_id}/-/{submission_name}', details='replies')\n",
        "\n",
        "    review_name = venue_group.content['review_name']['value']\n",
        "\n",
        "    reviews=[openreview.api.Note.from_json(reply) for s in submissions for reply in s.details['replies'] if f'{venue_id}/{submission_name}{s.number}/-/{review_name}' in reply['invitations']]\n",
        "    return reviews"
      ],
      "metadata": {
        "id": "n7mwVBc1aXA_"
      },
      "execution_count": null,
      "outputs": []
    },
    {
      "cell_type": "code",
      "execution_count": null,
      "metadata": {
        "id": "4I8mIcG-TYe1"
      },
      "outputs": [],
      "source": [
        "def get_scores(reviews):\n",
        "    result = {}\n",
        "    for review in reviews:\n",
        "\n",
        "        rev_id = review.id\n",
        "        forum = review.forum\n",
        "\n",
        "        if forum not in result:\n",
        "            result[forum] = {}\n",
        "\n",
        "        # Access rating details as needed, e.g., (can be different field for each conference)\n",
        "        scope = review.content[\"scope\"][\"value\"][0] #index [0] as the scores are single-digit, adjust accordingly\n",
        "        novelty = review.content[\"novelty\"][\"value\"][0]\n",
        "        tq = review.content[\"technical_quality\"][\"value\"][0]\n",
        "        conf = review.content[\"reviewer_confidence\"][\"value\"][0]\n",
        "\n",
        "        result[forum][rev_id] = dict(scope=scope, novelty=novelty, technical_quality=tq, reviewer_confidence=conf)\n",
        "    return result"
      ]
    },
    {
      "cell_type": "code",
      "source": [
        "def aggregate_result_per_paper(result):\n",
        "    agg_result = {}\n",
        "    for forum in result:\n",
        "        tes = pd.DataFrame(result[forum])\n",
        "        res = tes.T.map(int).describe().to_dict()\n",
        "        agg_result[forum] = res\n",
        "\n",
        "    return agg_result"
      ],
      "metadata": {
        "id": "YoDgftJzetF5"
      },
      "execution_count": null,
      "outputs": []
    },
    {
      "cell_type": "code",
      "source": [
        "# API V2\n",
        "client = openreview.api.OpenReviewClient(\n",
        "    baseurl='https://api2.openreview.net',\n",
        "    username=username,\n",
        "    password=password\n",
        ")"
      ],
      "metadata": {
        "id": "A7TroPrDoxbZ"
      },
      "execution_count": null,
      "outputs": []
    },
    {
      "cell_type": "code",
      "source": [
        "reviews = get_reviews(venue_id)\n",
        "result = get_scores(reviews)\n",
        "agg_result = aggregate_result_per_paper(result)\n",
        "final_df = pd.DataFrame(agg_result).T"
      ],
      "metadata": {
        "id": "F-dHaxBDfIGx"
      },
      "execution_count": null,
      "outputs": []
    },
    {
      "cell_type": "code",
      "source": [
        "#get the range of mean scores per paper, for each aspect/field\n",
        "for aspect in list_score_field:\n",
        "    min_val = final_df[aspect].apply(lambda x: x[\"mean\"]).min()\n",
        "    max_val = final_df[aspect].apply(lambda x: x[\"mean\"]).max()\n",
        "    print(f\"Average {aspect} per paper: {min_val}--{max_val}\")"
      ],
      "metadata": {
        "colab": {
          "base_uri": "https://localhost:8080/"
        },
        "id": "PUPvGi-FewrH",
        "outputId": "279cc779-5339-476c-e427-f233afa95326"
      },
      "execution_count": null,
      "outputs": [
        {
          "output_type": "stream",
          "name": "stdout",
          "text": [
            "Average scope per paper: 2.2--4.0\n",
            "Average novelty per paper: 3.2--6.333333333333333\n",
            "Average technical_quality per paper: 3.6--6.75\n",
            "Average reviewer_confidence per paper: 1.75--4.0\n"
          ]
        }
      ]
    },
    {
      "cell_type": "code",
      "source": [
        "#plot histogram\n",
        "final_df.map(lambda x: x[\"mean\"]).hist(bins=15)"
      ],
      "metadata": {
        "id": "vRH1Lg-nhLvv",
        "colab": {
          "base_uri": "https://localhost:8080/",
          "height": 521
        },
        "outputId": "afb47e92-7dc7-4a60-f5b2-e862a5d4bbfe"
      },
      "execution_count": null,
      "outputs": [
        {
          "output_type": "execute_result",
          "data": {
            "text/plain": [
              "array([[<Axes: title={'center': 'scope'}>,\n",
              "        <Axes: title={'center': 'novelty'}>],\n",
              "       [<Axes: title={'center': 'technical_quality'}>,\n",
              "        <Axes: title={'center': 'reviewer_confidence'}>]], dtype=object)"
            ]
          },
          "metadata": {},
          "execution_count": 80
        },
        {
          "output_type": "display_data",
          "data": {
            "text/plain": [
              "<Figure size 640x480 with 4 Axes>"
            ],
            "image/png": "[encoded data removed]"
          },
          "metadata": {}
        }
      ]
    }
  ]
}
